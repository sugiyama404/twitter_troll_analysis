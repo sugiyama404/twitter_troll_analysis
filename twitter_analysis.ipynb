{
  "nbformat": 4,
  "nbformat_minor": 0,
  "metadata": {
    "colab": {
      "name": "twitter_analysis.ipynb",
      "private_outputs": true,
      "provenance": [],
      "collapsed_sections": [],
      "authorship_tag": "ABX9TyNAAq0fgOfl7UYOSTJBtoPe",
      "include_colab_link": true
    },
    "kernelspec": {
      "name": "python3",
      "display_name": "Python 3"
    },
    "language_info": {
      "name": "python"
    }
  },
  "cells": [
    {
      "cell_type": "markdown",
      "metadata": {
        "id": "view-in-github",
        "colab_type": "text"
      },
      "source": [
        "<a href=\"https://colab.research.google.com/github/sugiyama404/twitter_troll_analysis/blob/main/twitter_analysis.ipynb\" target=\"_parent\"><img src=\"https://colab.research.google.com/assets/colab-badge.svg\" alt=\"Open In Colab\"/></a>"
      ]
    },
    {
      "cell_type": "code",
      "metadata": {
        "id": "9C3UqXqHQj-n"
      },
      "source": [
        "import numpy as np\n",
        "import pandas as pd\n",
        "import matplotlib.pyplot as plt\n",
        "import datetime as dt\n",
        "import networkx as nx\n",
        "import copy\n",
        "from uuid import uuid4\n",
        "from PIL import Image\n",
        "import glob\n",
        "from google.colab import drive\n",
        "import time\n",
        "\n",
        "\n",
        "drive.mount('/content/drive/')\n",
        "data_dir = 'Colab Notebooks/dataset/'\n",
        "work_dir = 'Colab Notebooks/workspace/'\n",
        "imp_dir = '/content/drive/My Drive/' + data_dir + 'russian_twitter_trolls/'\n",
        "img_dir = '/content/drive/My Drive/' + work_dir + 'img/'\n",
        "gif_dir = '/content/drive/My Drive/' + work_dir + 'export/'"
      ],
      "execution_count": null,
      "outputs": []
    },
    {
      "cell_type": "markdown",
      "metadata": {
        "id": "tq0zi1xhlmti"
      },
      "source": [
        "# CSVファイルの読み込み"
      ]
    },
    {
      "cell_type": "code",
      "metadata": {
        "id": "N_5L6OjLVPYZ"
      },
      "source": [
        "dft = pd.read_csv(imp_dir + 'tweets.csv')\n",
        "dfu = pd.read_csv(imp_dir + 'users.csv')\n",
        "\n",
        "print(dft.shape)\n",
        "print(dfu.shape)"
      ],
      "execution_count": null,
      "outputs": []
    },
    {
      "cell_type": "markdown",
      "metadata": {
        "id": "a5Di78RTlsR2"
      },
      "source": [
        "# データ整形"
      ]
    },
    {
      "cell_type": "code",
      "metadata": {
        "id": "tgABcw-zgi4G"
      },
      "source": [
        "dfu = dfu[['id','name']]\n",
        "dfu = dfu.dropna(how='any')\n",
        "dfu"
      ],
      "execution_count": null,
      "outputs": []
    },
    {
      "cell_type": "code",
      "metadata": {
        "id": "Qwp_DdJwBauV"
      },
      "source": [
        "dft = dft[['user_id','created_str','retweet_count','retweeted', 'text','tweet_id','retweeted_status_id','in_reply_to_status_id']]\n",
        "dft['created_str'] = pd.to_datetime(dft['created_str'], format='%Y-%m-%d')\n",
        "dft['created_str'] = dft['created_str'].round('1d')\n",
        "dft = dft.dropna(subset=['user_id'])\n",
        "dft = dft.dropna(subset=['created_str'])\n",
        "dft = dft.dropna(subset=['retweet_count'])\n",
        "dft = dft[dft['retweet_count'] != 0]\n",
        "dft['retweet_count'] = dft['retweet_count'].astype('int')\n",
        "dft['user_id'] = dft['user_id'].astype('int')\n",
        "dft = dft.sort_values('created_str')\n",
        "print(dft[['user_id','created_str','retweet_count']].head(10))"
      ],
      "execution_count": null,
      "outputs": []
    },
    {
      "cell_type": "markdown",
      "metadata": {
        "id": "wOWQv6MPlzbH"
      },
      "source": [
        "# 描写"
      ]
    },
    {
      "cell_type": "code",
      "metadata": {
        "id": "m6gs4xG0_TDp"
      },
      "source": [
        "df_day2 = df_day = dft['created_str']\n",
        "counter = 0\n",
        "n = 1\n",
        "for day in df_day:\n",
        "  dft_new = pd.DataFrame(columns=dft.columns)\n",
        "  if counter <= 4:\n",
        "    dft_new = dft[dft['created_str'] <= day]\n",
        "  else:\n",
        "    copy_count = copy.deepcopy(counter)\n",
        "    copy_count2 = copy.deepcopy(counter) - 4\n",
        "    dft_new = dft[ (df_day2.iloc[copy_count] >= dft['created_str']) & (dft['created_str'] > df_day2.iloc[copy_count2])]\n",
        "  counter += 1\n",
        "  #print(dft_new.loc[:,['user_id','created_str','retweet_count']])\n",
        "  net = pd.DataFrame([], columns=['from','to'])\n",
        "  carac = pd.DataFrame([], columns=['ID','color'])\n",
        "  G = nx.Graph()\n",
        "  plt.clf()\n",
        "\n",
        "  for userid, strday, count in zip(dft_new['user_id'], dft_new['created_str'], dft_new['retweet_count']):\n",
        "\n",
        "    for i in range(count):\n",
        "      #mem = str(userid) + '_mem_' + str(i)\n",
        "      mem = str(uuid4())\n",
        "      #uuid = str(uuid4())\n",
        "      #mkuuid = str(userid)\n",
        "      mkuuid = str(userid) + '_' + str(uuid4())\n",
        "\n",
        "      addRow = pd.Series([mem,mkuuid], index=net.columns)\n",
        "      net = net.append(addRow, ignore_index=True)\n",
        "\n",
        "      addRow2 = pd.Series([mem,'skyblue'], index=carac.columns)\n",
        "      carac = carac.append(addRow2, ignore_index=True)\n",
        "\n",
        "      if i == 0:\n",
        "        addRow3 = pd.Series([mkuuid,mem], index=net.columns)\n",
        "        net = net.append(addRow3, ignore_index=True)\n",
        "\n",
        "        addRow4 = pd.Series([mkuuid,'darkorange'], index=carac.columns)\n",
        "        carac = carac.append(addRow4, ignore_index=True)\n",
        "\n",
        "  #print(net.shape)\n",
        "  #print(carac.shape)\n",
        "\n",
        "  # Build your graph\n",
        "  G=nx.from_pandas_edgelist(net, 'from', 'to')\n",
        "  # Plot it\n",
        "  nx.draw(G, with_labels=False, node_color=carac['color'], alpha=0.5, node_shape=\"o\", linewidths=4)\n",
        "  plt.savefig('/content/drive/My Drive/Colab Notebooks/workspace/img/{0:04d}.png'.format(n))\n",
        "  #plt.show()\n",
        "  n = n+1"
      ],
      "execution_count": null,
      "outputs": []
    },
    {
      "cell_type": "markdown",
      "metadata": {
        "id": "IZxRR2L1l2tI"
      },
      "source": [
        "# gif作成"
      ]
    },
    {
      "cell_type": "code",
      "metadata": {
        "id": "kod-p6FfNNAt"
      },
      "source": [
        "files = sorted(glob.glob(img_dir+'*.png'))\n",
        "images = list(map(lambda file: Image.open(file), files))\n",
        "\n",
        "images[0].save(gif_dir+'net_movie.gif', save_all=True, append_images=images[1:], duration=400, loop=0)"
      ],
      "execution_count": null,
      "outputs": []
    }
  ]
}